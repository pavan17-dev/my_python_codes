{
 "cells": [
  {
   "cell_type": "markdown",
   "id": "ef686476",
   "metadata": {},
   "source": [
    "## 1) List Comprehensions"
   ]
  },
  {
   "cell_type": "code",
   "execution_count": null,
   "id": "290fae6c",
   "metadata": {},
   "outputs": [],
   "source": [
    "x = int(input())\n",
    "y = int(input())\n",
    "z = int(input())\n",
    "n = int(input())\n",
    "\n",
    "coordinates = [[i, j, k] for i in range(x+1) for j in range(y+1) for k in range(z+1)]\n",
    "valid_coordinates = [c for c in coordinates if sum(c) != n]\n",
    "\n",
    "print(valid_coordinates)\n"
   ]
  },
  {
   "cell_type": "markdown",
   "id": "c12d654f",
   "metadata": {},
   "source": [
    "## 2) Find the Runner Up Score"
   ]
  },
  {
   "cell_type": "code",
   "execution_count": null,
   "id": "19fabf0e",
   "metadata": {},
   "outputs": [],
   "source": [
    "n = int(input())\n",
    "arr = map(int, input().split())\n",
    "tempList = list(set(arr))\n",
    "tempList.sort(reverse=True)\n",
    "print(tempList[1])"
   ]
  },
  {
   "cell_type": "markdown",
   "id": "0d34d28c",
   "metadata": {},
   "source": [
    "## 3) Nested Lists"
   ]
  },
  {
   "cell_type": "code",
   "execution_count": null,
   "id": "63d2572a",
   "metadata": {},
   "outputs": [],
   "source": [
    "n = int(input())\n",
    "students = []\n",
    "for i in range(n):\n",
    "    name = input()\n",
    "    grade = float(input())\n",
    "    students.append([name, grade])\n",
    "\n",
    "# Find the second lowest grade\n",
    "grades = set([student[1] for student in students])\n",
    "second_lowest = sorted(grades)[1]\n",
    "\n",
    "# Find the students with the second lowest grade and sort them alphabetically\n",
    "second_lowest_students = sorted([student[0] for student in students if student[1] == second_lowest])\n",
    "\n",
    "# Print the result\n",
    "for student in second_lowest_students:\n",
    "    print(student)"
   ]
  },
  {
   "cell_type": "markdown",
   "id": "88f77a72",
   "metadata": {},
   "source": [
    "## 4) Find Percentage"
   ]
  },
  {
   "cell_type": "code",
   "execution_count": 1,
   "id": "4c7ac8a6",
   "metadata": {},
   "outputs": [
    {
     "name": "stdout",
     "output_type": "stream",
     "text": [
      "3\n",
      "Pavan 67 89 53\n",
      "Pk 34 56 89\n",
      "Ajay 56 78 34\n",
      "Pk\n",
      "59.67\n"
     ]
    }
   ],
   "source": [
    "n = int(input())\n",
    "student_marks = {}\n",
    "for _ in range(n):\n",
    "    name, *line = input().split()\n",
    "    scores = list(map(float, line))\n",
    "    student_marks[name] = scores\n",
    "query_name = input()\n",
    "marks = student_marks[query_name]\n",
    "average_marks = sum(marks) / len(marks)\n",
    "average_marks = float(average_marks)\n",
    "print(\"{:.2f}\".format(average_marks))"
   ]
  },
  {
   "cell_type": "markdown",
   "id": "07050414",
   "metadata": {},
   "source": [
    "## 5) Lists"
   ]
  },
  {
   "cell_type": "code",
   "execution_count": 3,
   "id": "bc1772d0",
   "metadata": {},
   "outputs": [
    {
     "name": "stdout",
     "output_type": "stream",
     "text": [
      "12\n",
      "insert 0 5\n",
      "insert 1 10\n",
      "insert 0 6\n",
      "print\n",
      "[6, 5, 10]\n",
      "remove 6\n",
      "append 9\n",
      "append 1\n",
      "sort \n",
      "print\n",
      "[1, 5, 9, 10]\n",
      "pop\n",
      "reverse\n",
      "print\n",
      "[9, 5, 1]\n"
     ]
    }
   ],
   "source": [
    "N = int(input())\n",
    "lst = []\n",
    "for _ in range(N):\n",
    "    command = input().split()\n",
    "    if command[0] == 'insert':\n",
    "        lst.insert(int(command[1]), int(command[2]))\n",
    "    elif command[0] == 'print':\n",
    "        print(lst)\n",
    "    elif command[0] == 'remove':\n",
    "        lst.remove(int(command[1]))\n",
    "    elif command[0] == 'append':\n",
    "        lst.append(int(command[1]))\n",
    "    elif command[0] == 'sort':\n",
    "        lst.sort()\n",
    "    elif command[0] == 'pop':\n",
    "        lst.pop()\n",
    "    elif command[0] == 'reverse':\n",
    "        lst.reverse()"
   ]
  },
  {
   "cell_type": "markdown",
   "id": "59d31b34",
   "metadata": {},
   "source": [
    "## 6) Sets"
   ]
  },
  {
   "cell_type": "code",
   "execution_count": 4,
   "id": "0b09690a",
   "metadata": {},
   "outputs": [
    {
     "name": "stdout",
     "output_type": "stream",
     "text": [
      "10\n",
      "161 153 145 156 167 178 159 187 145 167\n",
      "163.25\n"
     ]
    }
   ],
   "source": [
    "def average(array):\n",
    "    # your code goes here\n",
    "    set_of_heights = set(array)\n",
    "    len_of_arr = len(set_of_heights)\n",
    "    sum_of_heights = sum(set_of_heights)\n",
    "    average_height = sum_of_heights / len_of_arr\n",
    "    return average_height\n",
    "\n",
    "n = int(input())\n",
    "arr = list(map(int, input().split()))\n",
    "result = average(arr)\n",
    "print(result)"
   ]
  },
  {
   "cell_type": "markdown",
   "id": "155a645d",
   "metadata": {},
   "source": [
    "## 7) No idea"
   ]
  },
  {
   "cell_type": "code",
   "execution_count": 5,
   "id": "10aa1d29",
   "metadata": {},
   "outputs": [
    {
     "name": "stdout",
     "output_type": "stream",
     "text": [
      "3 2\n",
      "1 5 3\n",
      "3 1\n",
      "5 7\n",
      "1\n"
     ]
    }
   ],
   "source": [
    "n, m = map(int, input().split())\n",
    "arr = list(map(int, input().split()))\n",
    "like = set(map(int, input().split()))\n",
    "dislike = set(map(int, input().split()))\n",
    "happiness = 0\n",
    "for num in arr:\n",
    "    if num in like:\n",
    "        happiness += 1\n",
    "    elif num in dislike:\n",
    "        happiness -= 1\n",
    "\n",
    "print(happiness)  "
   ]
  },
  {
   "cell_type": "markdown",
   "id": "14a67eda",
   "metadata": {},
   "source": [
    "## 8) Symmetric Difference"
   ]
  },
  {
   "cell_type": "code",
   "execution_count": 1,
   "id": "51a18b1d",
   "metadata": {},
   "outputs": [
    {
     "name": "stdout",
     "output_type": "stream",
     "text": [
      "4\n",
      "2 4 5 9\n",
      "3\n",
      "2 3 12\n",
      "3\n",
      "4\n",
      "5\n",
      "9\n",
      "12\n"
     ]
    }
   ],
   "source": [
    "n = int(input())\n",
    "A = input().split()\n",
    "m = int(input())\n",
    "B = input().split()\n",
    "\n",
    "\n",
    "A = set(map(int, A))\n",
    "B = set(map(int, B))\n",
    "\n",
    "\n",
    "result = A.symmetric_difference(B)\n",
    "\n",
    "\n",
    "for i in sorted(result):\n",
    "    print(i)"
   ]
  },
  {
   "cell_type": "markdown",
   "id": "c02cefcf",
   "metadata": {},
   "source": [
    "## 9) Set.add()"
   ]
  },
  {
   "cell_type": "code",
   "execution_count": 1,
   "id": "398ee02b",
   "metadata": {},
   "outputs": [
    {
     "name": "stdout",
     "output_type": "stream",
     "text": [
      "7\n",
      "\"pk\"\n",
      "\"dhoni\"\n",
      "\"kohli\"\n",
      "\"raina\"\n",
      "\"pk\"\n",
      "\"kohli\"\n",
      "\"dhoni\"\n",
      "4\n"
     ]
    }
   ],
   "source": [
    "n = int(input())\n",
    "stamps = set()\n",
    "for i in range(n):\n",
    "    stamps.add(input().strip())\n",
    "print(len(stamps))"
   ]
  },
  {
   "cell_type": "markdown",
   "id": "23fb92a7",
   "metadata": {},
   "source": [
    "## 10) Set .discard(), .remove() & .pop()"
   ]
  },
  {
   "cell_type": "code",
   "execution_count": null,
   "id": "16df1166",
   "metadata": {},
   "outputs": [],
   "source": [
    "n = int(input())\n",
    "s = set(map(int, input().split()))\n",
    "num_commands = int(input())\n",
    "\n",
    "for i in range(num_commands):\n",
    "    command = input().split()\n",
    "    if command[0] == 'pop':\n",
    "        s.pop()\n",
    "    elif command[0] == 'remove':\n",
    "        s.remove(int(command[1]))\n",
    "    elif command[0] == 'discard':\n",
    "        s.discard(int(command[1]))\n",
    "\n",
    "print(sum(s))"
   ]
  },
  {
   "cell_type": "markdown",
   "id": "d3d1d0fe",
   "metadata": {},
   "source": [
    "## 11) Set .union() Operation"
   ]
  },
  {
   "cell_type": "code",
   "execution_count": null,
   "id": "dd4370c0",
   "metadata": {},
   "outputs": [],
   "source": [
    "english_newspaper_sub_size = int(input())\n",
    "english_newspaper_roll_numbers = set(map(int,input().split()))\n",
    "french_news_paper_sub_size = int(input())\n",
    "french_news_paper_roll_numbers = set(map(int,input().split()))\n",
    "print(len(english_newspaper_roll_numbers.union(french_news_paper_roll_numbers)))"
   ]
  },
  {
   "cell_type": "markdown",
   "id": "22632017",
   "metadata": {},
   "source": [
    "## 12) Set .intersection() Operation"
   ]
  },
  {
   "cell_type": "code",
   "execution_count": null,
   "id": "559a6ed7",
   "metadata": {},
   "outputs": [],
   "source": [
    "n = int(input())\n",
    "english_subscribers = set(map(int, input().split()))\n",
    "m = int(input())\n",
    "french_subscribers = set(map(int, input().split()))\n",
    "\n",
    "both_subscribers = english_subscribers.intersection(french_subscribers)\n",
    "print(len(both_subscribers))"
   ]
  },
  {
   "cell_type": "markdown",
   "id": "e06fb8ba",
   "metadata": {},
   "source": [
    "## 13)Set .difference() Operation"
   ]
  },
  {
   "cell_type": "code",
   "execution_count": null,
   "id": "b3cce4d1",
   "metadata": {},
   "outputs": [],
   "source": [
    "n = int(input())\n",
    "eng_subs = set(map(int, input().split()))\n",
    "m = int(input())\n",
    "fr_subs = set(map(int, input().split()))\n",
    "\n",
    "eng_only_subs = eng_subs.difference(fr_subs)  \n",
    "\n",
    "print(len(eng_only_subs))"
   ]
  },
  {
   "cell_type": "markdown",
   "id": "6aec2a3d",
   "metadata": {},
   "source": [
    "## 14)Set .symmetric_difference() Operation"
   ]
  },
  {
   "cell_type": "code",
   "execution_count": null,
   "id": "a4b50ed3",
   "metadata": {},
   "outputs": [],
   "source": [
    "n = int(input())\n",
    "eng_set = set(map(int, input().split()))\n",
    "m = int(input())\n",
    "fr_set = set(map(int, input().split()))\n",
    "\n",
    "sym_diff = eng_set.symmetric_difference(fr_set)\n",
    "\n",
    "print(len(sym_diff))"
   ]
  },
  {
   "cell_type": "markdown",
   "id": "092c07c6",
   "metadata": {},
   "source": [
    "## 15) Set Mutations"
   ]
  },
  {
   "cell_type": "code",
   "execution_count": null,
   "id": "81d38b6a",
   "metadata": {},
   "outputs": [],
   "source": [
    "n = int(input())\n",
    "s = set(map(int, input().split()))\n",
    "\n",
    "num_ops = int(input())\n",
    "\n",
    "for i in range(num_ops):\n",
    "    op, len_set = input().split()\n",
    "    other_set = set(map(int, input().split()))\n",
    "    if op == 'intersection_update':\n",
    "        s.intersection_update(other_set)\n",
    "    elif op == 'update':\n",
    "        s.update(other_set)\n",
    "    elif op == 'symmetric_difference_update':\n",
    "        s.symmetric_difference_update(other_set)\n",
    "    elif op == 'difference_update':\n",
    "        s.difference_update(other_set)\n",
    "\n",
    "print(sum(s))"
   ]
  },
  {
   "cell_type": "markdown",
   "id": "38112df9",
   "metadata": {},
   "source": [
    "## 16) Check Subset"
   ]
  },
  {
   "cell_type": "code",
   "execution_count": null,
   "id": "e997e164",
   "metadata": {},
   "outputs": [],
   "source": [
    "t = int(input())\n",
    "\n",
    "# loop through each test case\n",
    "for i in range(t):\n",
    "    # read the sets\n",
    "    n1 = int(input())\n",
    "    set1 = set(map(int, input().split()))\n",
    "    n2 = int(input())\n",
    "    set2 = set(map(int, input().split()))\n",
    "    \n",
    "    # check if set1 is a subset of set2\n",
    "    if set1.issubset(set2):\n",
    "        print(\"True\")\n",
    "    else:\n",
    "        print(\"False\")"
   ]
  },
  {
   "cell_type": "markdown",
   "id": "d4e320e5",
   "metadata": {},
   "source": [
    "## 17) Check Strict Subset"
   ]
  },
  {
   "cell_type": "code",
   "execution_count": null,
   "id": "c9e5c38c",
   "metadata": {},
   "outputs": [],
   "source": [
    "set_a = set(map(int, input().split()))\n",
    "\n",
    "# Read the number of other sets\n",
    "n = int(input())\n",
    "\n",
    "# Initialize a variable to keep track of whether set_a is a strict superset of all other sets\n",
    "is_superset = True\n",
    "\n",
    "# Iterate over the other sets and check whether set_a is a strict superset of each of them\n",
    "for i in range(n):\n",
    "    other_set = set(map(int, input().split()))\n",
    "    if not set_a.issuperset(other_set):\n",
    "        is_superset = False\n",
    "        break\n",
    "\n",
    "# Print the result\n",
    "print(is_superset)"
   ]
  },
  {
   "cell_type": "markdown",
   "id": "a77380f3",
   "metadata": {},
   "source": [
    "## 18) The Captain's Room"
   ]
  },
  {
   "cell_type": "code",
   "execution_count": null,
   "id": "ee8b17c8",
   "metadata": {},
   "outputs": [],
   "source": [
    "k = int(input())\n",
    "rooms = input().split()\n",
    "\n",
    "unique_rooms = set()\n",
    "repeat_rooms = set()\n",
    "\n",
    "for room in rooms:\n",
    "    if room in unique_rooms:\n",
    "    # If the room number has appeared before, add it to the    repeat_rooms set\n",
    "        repeat_rooms.add(room)\n",
    "    else:\n",
    "    # Otherwise, add it to the unique_rooms set\n",
    "        unique_rooms.add(room)\n",
    "captain_room_number = unique_rooms.difference(repeat_rooms).pop()\n",
    "print(captain_room_number)"
   ]
  },
  {
   "cell_type": "markdown",
   "id": "cd2adda8",
   "metadata": {},
   "source": [
    "## 19) Tuples"
   ]
  },
  {
   "cell_type": "code",
   "execution_count": 1,
   "id": "9b4fa05a",
   "metadata": {},
   "outputs": [
    {
     "name": "stdout",
     "output_type": "stream",
     "text": [
      "3\n",
      "23 34 45\n",
      "-9020161750293490346\n"
     ]
    }
   ],
   "source": [
    "n = int(input())\n",
    "integer_list = map(int, input().split())\n",
    "t = tuple(integer_list)\n",
    "print(hash(t))"
   ]
  },
  {
   "cell_type": "code",
   "execution_count": null,
   "id": "bd4f61ba",
   "metadata": {},
   "outputs": [],
   "source": []
  },
  {
   "cell_type": "code",
   "execution_count": null,
   "id": "2582f355",
   "metadata": {},
   "outputs": [],
   "source": []
  },
  {
   "cell_type": "code",
   "execution_count": null,
   "id": "b0908d39",
   "metadata": {},
   "outputs": [],
   "source": []
  },
  {
   "cell_type": "code",
   "execution_count": null,
   "id": "663797ea",
   "metadata": {},
   "outputs": [],
   "source": []
  },
  {
   "cell_type": "code",
   "execution_count": null,
   "id": "635774b7",
   "metadata": {},
   "outputs": [],
   "source": []
  }
 ],
 "metadata": {
  "kernelspec": {
   "display_name": "Python 3 (ipykernel)",
   "language": "python",
   "name": "python3"
  },
  "language_info": {
   "codemirror_mode": {
    "name": "ipython",
    "version": 3
   },
   "file_extension": ".py",
   "mimetype": "text/x-python",
   "name": "python",
   "nbconvert_exporter": "python",
   "pygments_lexer": "ipython3",
   "version": "3.9.12"
  }
 },
 "nbformat": 4,
 "nbformat_minor": 5
}
