{
 "cells": [
  {
   "cell_type": "markdown",
   "id": "da517d7c",
   "metadata": {},
   "source": [
    "## 1) Polar Coordinates"
   ]
  },
  {
   "cell_type": "raw",
   "id": "97f4920f",
   "metadata": {},
   "source": [
    "import cmath\n",
    "\n",
    "z = complex(input().strip())\n",
    "r = abs(z)\n",
    "phi = cmath.phase(z)\n",
    "\n",
    "print(r)\n",
    "print(phi)"
   ]
  },
  {
   "cell_type": "markdown",
   "id": "27dfae8b",
   "metadata": {},
   "source": [
    "## 2) Mod Power"
   ]
  },
  {
   "cell_type": "code",
   "execution_count": null,
   "id": "e28486d3",
   "metadata": {},
   "outputs": [],
   "source": [
    "a = int(input())\n",
    "b = int(input())\n",
    "m = int(input())\n",
    "\n",
    "print(pow(a,b))\n",
    "print(pow(a,b,m))"
   ]
  },
  {
   "cell_type": "markdown",
   "id": "0d9a5dd0",
   "metadata": {},
   "source": [
    "## 3) Integers Come In All Sizes"
   ]
  },
  {
   "cell_type": "code",
   "execution_count": null,
   "id": "81f87848",
   "metadata": {},
   "outputs": [],
   "source": [
    "a = int(input())\n",
    "b = int(input())\n",
    "c = int(input())\n",
    "d = int(input())\n",
    "print(a**b + c**d)"
   ]
  },
  {
   "cell_type": "markdown",
   "id": "4e8bd454",
   "metadata": {},
   "source": [
    "## 4)Mod Divmod"
   ]
  },
  {
   "cell_type": "code",
   "execution_count": null,
   "id": "4d068851",
   "metadata": {},
   "outputs": [],
   "source": [
    "a = int(input())\n",
    "b = int(input())\n",
    "print(a//b)\n",
    "print(a%b)\n",
    "print(divmod(a,b))"
   ]
  },
  {
   "cell_type": "markdown",
   "id": "16aea5d9",
   "metadata": {},
   "source": [
    "## 5) Find Angle MBC"
   ]
  },
  {
   "cell_type": "code",
   "execution_count": null,
   "id": "711aa581",
   "metadata": {},
   "outputs": [],
   "source": [
    "import sys\n",
    "import math\n",
    "\n",
    "ab, bc = map(int, [input(), input()])\n",
    "answer = u'%.0f\\N{DEGREE SIGN}' % math.degrees(math.atan(ab/bc))\n",
    "sys.stdout.buffer.write(answer.encode('utf-8'))"
   ]
  },
  {
   "cell_type": "markdown",
   "id": "de2ba4ec",
   "metadata": {},
   "source": [
    "## 6)Triangle Quest 2"
   ]
  },
  {
   "cell_type": "code",
   "execution_count": null,
   "id": "7dccc465",
   "metadata": {},
   "outputs": [],
   "source": [
    "for i in range(1,int(input())+1):\n",
    "    print(((10**i-1)//9)**2)"
   ]
  },
  {
   "cell_type": "markdown",
   "id": "3028ba2e",
   "metadata": {},
   "source": [
    "## 7) Triangle Quest 3"
   ]
  },
  {
   "cell_type": "code",
   "execution_count": null,
   "id": "6576b54b",
   "metadata": {},
   "outputs": [],
   "source": [
    "for i in range(1, int(input())):\n",
    "    print((10**i//9)*i)"
   ]
  },
  {
   "cell_type": "code",
   "execution_count": null,
   "id": "0bc159d5",
   "metadata": {},
   "outputs": [],
   "source": []
  },
  {
   "cell_type": "code",
   "execution_count": null,
   "id": "c3b7ae4b",
   "metadata": {},
   "outputs": [],
   "source": []
  },
  {
   "cell_type": "code",
   "execution_count": null,
   "id": "17c0eed8",
   "metadata": {},
   "outputs": [],
   "source": []
  },
  {
   "cell_type": "code",
   "execution_count": null,
   "id": "64765d6f",
   "metadata": {},
   "outputs": [],
   "source": []
  },
  {
   "cell_type": "code",
   "execution_count": null,
   "id": "ea1bb399",
   "metadata": {},
   "outputs": [],
   "source": []
  }
 ],
 "metadata": {
  "kernelspec": {
   "display_name": "Python 3 (ipykernel)",
   "language": "python",
   "name": "python3"
  },
  "language_info": {
   "codemirror_mode": {
    "name": "ipython",
    "version": 3
   },
   "file_extension": ".py",
   "mimetype": "text/x-python",
   "name": "python",
   "nbconvert_exporter": "python",
   "pygments_lexer": "ipython3",
   "version": "3.9.12"
  }
 },
 "nbformat": 4,
 "nbformat_minor": 5
}
