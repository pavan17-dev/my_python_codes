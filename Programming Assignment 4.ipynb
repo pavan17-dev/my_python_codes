{
 "cells": [
  {
   "cell_type": "markdown",
   "id": "2c847d61",
   "metadata": {},
   "source": [
    "## 1) sWAP cASE"
   ]
  },
  {
   "cell_type": "code",
   "execution_count": null,
   "id": "85ff6ee8",
   "metadata": {},
   "outputs": [],
   "source": [
    "def swap_case(s):\n",
    "    return (s.swapcase())\n",
    "s = input()\n",
    "result = swap_case(s)\n",
    "print(result)"
   ]
  },
  {
   "cell_type": "markdown",
   "id": "ca002e20",
   "metadata": {},
   "source": [
    "## 2) String Split and Join"
   ]
  },
  {
   "cell_type": "code",
   "execution_count": null,
   "id": "ebd47bc9",
   "metadata": {},
   "outputs": [],
   "source": [
    "def split_and_join(line):\n",
    "    # write your code here\n",
    "    line = line.split(\" \")\n",
    "    line = \"-\".join(line)\n",
    "    return line\n",
    "line = input()\n",
    "result = split_and_join(line)\n",
    "print(result)"
   ]
  },
  {
   "cell_type": "markdown",
   "id": "6864f807",
   "metadata": {},
   "source": [
    "## 3) What's Your Name"
   ]
  },
  {
   "cell_type": "code",
   "execution_count": null,
   "id": "a7c4e649",
   "metadata": {},
   "outputs": [],
   "source": [
    "def print_full_name(first, last):\n",
    "    # Write your code here\n",
    "    string_first = first\n",
    "    string_last = last\n",
    "    print(\"Hello\",string_first,string_last+\"!\",\"You just delved into python.\")\n",
    "    \n",
    "first_name = input()\n",
    "last_name = input()\n",
    "print_full_name(first_name, last_name)"
   ]
  },
  {
   "cell_type": "markdown",
   "id": "07cf603e",
   "metadata": {},
   "source": [
    "## 4) Mutations"
   ]
  },
  {
   "cell_type": "code",
   "execution_count": null,
   "id": "be343cb1",
   "metadata": {},
   "outputs": [],
   "source": [
    "def mutate_string(string, position, character):\n",
    "    l = list(string)\n",
    "    l[position] = character\n",
    "    string = \"\".join(l)\n",
    "    return string\n",
    "s = input()\n",
    "i, c = input().split()\n",
    "s_new = mutate_string(s, int(i), c)\n",
    "print(s_new)"
   ]
  },
  {
   "cell_type": "markdown",
   "id": "25940245",
   "metadata": {},
   "source": [
    "## 5) Find a String"
   ]
  },
  {
   "cell_type": "code",
   "execution_count": null,
   "id": "e38b3bba",
   "metadata": {},
   "outputs": [],
   "source": [
    "def count_substring(string, sub_string):\n",
    "    count = 0\n",
    "    start_index = 0\n",
    "    while True:\n",
    "        index = string.find(sub_string,start_index)\n",
    "        if index == -1:\n",
    "            break\n",
    "        count += 1\n",
    "        start_index = index + 1\n",
    "    return count\n",
    "string = input().strip()\n",
    "sub_string = input().strip()\n",
    "\n",
    "count = count_substring(string, sub_string)\n",
    "print(count)"
   ]
  },
  {
   "cell_type": "markdown",
   "id": "cc746acc",
   "metadata": {},
   "source": [
    "## 6) String Validators"
   ]
  },
  {
   "cell_type": "code",
   "execution_count": null,
   "id": "47395a50",
   "metadata": {},
   "outputs": [],
   "source": [
    "s = input() \n",
    "\n",
    "print(any(c.isalnum() for c in s))\n",
    "print(any(c.isalpha() for c in s))\n",
    "print(any(c.isdigit() for c in s))\n",
    "print(any(c.islower() for c in s))\n",
    "print(any(c.isupper() for c in s))"
   ]
  },
  {
   "cell_type": "markdown",
   "id": "afd001f2",
   "metadata": {},
   "source": [
    "## 7) Text Alignment"
   ]
  },
  {
   "cell_type": "code",
   "execution_count": null,
   "id": "b168b695",
   "metadata": {},
   "outputs": [],
   "source": [
    "\n",
    "thickness = int(input()) #This must me an odd number\n",
    "c = 'H'\n",
    "\n",
    "#Top Cone\n",
    "for i in range(thickness):\n",
    "    print((c*i).rjust(thickness-1)+c+(c*i).ljust(thickness-1))\n",
    "\n",
    "#Top Pillars\n",
    "for i in range(thickness+1):\n",
    "    print((c*thickness).center(thickness*2)+(c*thickness).center(thickness*6))\n",
    "\n",
    "#Middle Belt\n",
    "for i in range((thickness+1)//2):\n",
    "    print((c*thickness*5).center(thickness*6))    \n",
    "\n",
    "#Bottom Pillars\n",
    "for i in range(thickness+1):\n",
    "    print((c*thickness).center(thickness*2)+(c*thickness).center(thickness*6))    \n",
    "\n",
    "#Bottom Cone\n",
    "for i in range(thickness):\n",
    "    print(((c*(thickness-i-1)).rjust(thickness)+c+(c*(thickness-i-1)).ljust(thickness)).rjust(thickness*6)) "
   ]
  },
  {
   "cell_type": "markdown",
   "id": "e6bf92bf",
   "metadata": {},
   "source": [
    "## 8) Text Wrap"
   ]
  },
  {
   "cell_type": "code",
   "execution_count": null,
   "id": "008e6977",
   "metadata": {},
   "outputs": [],
   "source": [
    "import textwrap\n",
    "\n",
    "def wrap(string, max_width):\n",
    "    wrapped_lines = textwrap.wrap(string, max_width)\n",
    "    return '\\n'.join(wrapped_lines)\n",
    "\n",
    "string, max_width = input(), int(input())\n",
    "result = wrap(string, max_width)\n",
    "print(result)"
   ]
  },
  {
   "cell_type": "markdown",
   "id": "cedfb8f6",
   "metadata": {},
   "source": [
    "## 9) Designer Door Mat"
   ]
  },
  {
   "cell_type": "code",
   "execution_count": null,
   "id": "2b731ba3",
   "metadata": {},
   "outputs": [],
   "source": [
    "n, m = map(int, input().split())\n",
    "pattern = [('.|.'*(2*i + 1)).center(m, '-') for i in range(n//2)]\n",
    "print('\\n'.join(pattern + ['WELCOME'.center(m, '-')] + pattern[::-1]))"
   ]
  },
  {
   "cell_type": "markdown",
   "id": "62135e6e",
   "metadata": {},
   "source": [
    "## 10) Capitalize!"
   ]
  },
  {
   "cell_type": "code",
   "execution_count": null,
   "id": "a39ac920",
   "metadata": {},
   "outputs": [],
   "source": [
    "def solve(s):\n",
    "    return ' '.join(word.capitalize() for word in s.split(\" \"))\n",
    "s = input()\n",
    "result = solve(s)"
   ]
  },
  {
   "cell_type": "markdown",
   "id": "da060f2d",
   "metadata": {},
   "source": [
    "## 11) Minion Game"
   ]
  },
  {
   "cell_type": "raw",
   "id": "43ad7722",
   "metadata": {},
   "source": [
    "def minion_game(string):\n",
    "    vowels = 'AEIOU'\n",
    "    stuart_score = 0\n",
    "    kevin_score = 0\n",
    "    n = len(string)\n",
    "    \n",
    "    for i in range(n):\n",
    "        if string[i] in vowels:\n",
    "            kevin_score += n-i\n",
    "        else:\n",
    "            stuart_score += n-i\n",
    "    \n",
    "    if kevin_score > stuart_score:\n",
    "        print(\"Kevin\", kevin_score)\n",
    "    elif stuart_score > kevin_score:\n",
    "        print(\"Stuart\", stuart_score)\n",
    "    else:\n",
    "        print(\"Draw\")"
   ]
  },
  {
   "cell_type": "markdown",
   "id": "23b471e6",
   "metadata": {},
   "source": [
    "## 12) Merge the tools"
   ]
  },
  {
   "cell_type": "code",
   "execution_count": null,
   "id": "a1d6e7f7",
   "metadata": {},
   "outputs": [],
   "source": [
    "def merge_the_tools(string, k):\n",
    "    # your code goes here\n",
    "    n = len(string)\n",
    "    t = n // k\n",
    "    for i in range(t):\n",
    "        substr = string[i * k:(i + 1) * k]\n",
    "        seen = set()\n",
    "        print(''.join([x for x in substr if not (x in seen or seen.add(x))]))\n",
    "string, k = input(), int(input())\n",
    "merge_the_tools(string, k)"
   ]
  },
  {
   "cell_type": "markdown",
   "id": "a9680ada",
   "metadata": {},
   "source": [
    "## 13) Alphabet Rangoli"
   ]
  },
  {
   "cell_type": "code",
   "execution_count": null,
   "id": "6c7d9ceb",
   "metadata": {},
   "outputs": [],
   "source": [
    "def print_rangoli(size):\n",
    "    # determine the number of characters in each line\n",
    "    num_chars = (size - 1) * 2 + 1\n",
    "\n",
    "    # determine the characters to be printed\n",
    "    chars = [chr(ord('a') + i) for i in range(size)]\n",
    "\n",
    "    # build the rangoli line by line\n",
    "    lines = []\n",
    "    for i in range(size):\n",
    "        # build the line\n",
    "        line = ''\n",
    "        line += '-' * (size - i - 1) * 2\n",
    "        if i == 0:\n",
    "            line += chars[-1]\n",
    "        else:\n",
    "            line += chars[-1:i-1:-1]\n",
    "            line += chars[i]\n",
    "        line += '-' * (num_chars - len(line))\n",
    "        line += '-' * (size - i - 1) * 2\n",
    "\n",
    "        # add the line to the list of lines\n",
    "        lines.append(line)\n",
    "\n",
    "    # add the remaining lines of the rangoli\n",
    "    for i in range(size-2, -1, -1):\n",
    "        lines.append(lines[i])\n",
    "\n",
    "    # concatenate the lines and return the result\n",
    "    return '\\n'.join(lines)\n",
    "\n",
    "n = int(input())\n",
    "print_rangoli(n)"
   ]
  },
  {
   "cell_type": "markdown",
   "id": "a2adb2b3",
   "metadata": {},
   "source": [
    "## 14) String Formatting"
   ]
  },
  {
   "cell_type": "code",
   "execution_count": null,
   "id": "e8a8acec",
   "metadata": {},
   "outputs": [],
   "source": [
    "def print_formatted(number):\n",
    "    width = len(\"{0:b}\".format(number))\n",
    "    for i in range(1, number + 1):\n",
    "        decimal = \"{0:{width}d}\".format(i, width=width)\n",
    "        octal = \"{0:{width}o}\".format(i, width=width)\n",
    "        hexadecimal = \"{0:{width}X}\".format(i, width=width)\n",
    "        binary = \"{0:{width}b}\".format(i, width=width)\n",
    "        print(decimal, octal, hexadecimal, binary)\n",
    "n = int(input())\n",
    "print_formatted(n)"
   ]
  },
  {
   "cell_type": "code",
   "execution_count": null,
   "id": "c4f75734",
   "metadata": {},
   "outputs": [],
   "source": []
  },
  {
   "cell_type": "code",
   "execution_count": null,
   "id": "56e31c29",
   "metadata": {},
   "outputs": [],
   "source": []
  }
 ],
 "metadata": {
  "kernelspec": {
   "display_name": "Python 3 (ipykernel)",
   "language": "python",
   "name": "python3"
  },
  "language_info": {
   "codemirror_mode": {
    "name": "ipython",
    "version": 3
   },
   "file_extension": ".py",
   "mimetype": "text/x-python",
   "name": "python",
   "nbconvert_exporter": "python",
   "pygments_lexer": "ipython3",
   "version": "3.9.12"
  }
 },
 "nbformat": 4,
 "nbformat_minor": 5
}
