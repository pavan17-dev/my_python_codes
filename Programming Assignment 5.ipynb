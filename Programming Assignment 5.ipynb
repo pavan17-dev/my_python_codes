{
 "cells": [
  {
   "cell_type": "markdown",
   "id": "cb05fcca",
   "metadata": {},
   "source": [
    "## 1) Re.split()"
   ]
  },
  {
   "cell_type": "code",
   "execution_count": 1,
   "id": "7d13afa2",
   "metadata": {},
   "outputs": [
    {
     "name": "stdout",
     "output_type": "stream",
     "text": [
      "100,000,000.000,000.000\n",
      "100\n",
      "000\n",
      "000\n",
      "000\n",
      "000\n",
      "000\n"
     ]
    }
   ],
   "source": [
    "regex_pattern = r\"[.,]\"\n",
    "\n",
    "import re\n",
    "print(\"\\n\".join(re.split(regex_pattern, input())))"
   ]
  },
  {
   "cell_type": "markdown",
   "id": "0c4acc85",
   "metadata": {},
   "source": [
    "## 2) Re.findall() & Re.finditer()"
   ]
  },
  {
   "cell_type": "code",
   "execution_count": null,
   "id": "629a0434",
   "metadata": {},
   "outputs": [],
   "source": [
    "import re\n",
    "\n",
    "s = input()\n",
    "\n",
    "matches = re.findall(r'(?<=[qwrtypsdfghjklzxcvbnmQWRTYPSDFGHJKLZXCVBNM])[aeiouAEIOU]{2,}(?=[qwrtypsdfghjklzxcvbnmQWRTYPSDFGHJKLZXCVBNM])', s)\n",
    "\n",
    "if matches:\n",
    "    for match in matches:\n",
    "        print(match)\n",
    "else:\n",
    "    print(-1)"
   ]
  },
  {
   "cell_type": "markdown",
   "id": "e14d40d9",
   "metadata": {},
   "source": [
    "## 3) Re.start() & Re.end()"
   ]
  },
  {
   "cell_type": "code",
   "execution_count": null,
   "id": "2ded19bf",
   "metadata": {},
   "outputs": [],
   "source": [
    "import re\n",
    "\n",
    "string = input().strip()\n",
    "substring = input().strip()\n",
    "\n",
    "pattern = re.compile('(?={})'.format(substring)) # positive lookahead\n",
    "\n",
    "matches = list(pattern.finditer(string))\n",
    "\n",
    "if len(matches) == 0:\n",
    "    print((-1, -1))\n",
    "else:\n",
    "    for match in matches:\n",
    "        print((match.start(), match.start() + len(substring) - 1))"
   ]
  },
  {
   "cell_type": "markdown",
   "id": "56a528e1",
   "metadata": {},
   "source": [
    "## 4) Regex Substitution"
   ]
  },
  {
   "cell_type": "code",
   "execution_count": null,
   "id": "3a59cd5c",
   "metadata": {},
   "outputs": [],
   "source": [
    "import re\n",
    "\n",
    "n = int(input())\n",
    "text = []\n",
    "for i in range(n):\n",
    "    text.append(input())\n",
    "\n",
    "for i in range(n):\n",
    "    text[i] = re.sub(r\"(?<= )&&(?= )\", \"and\", text[i])\n",
    "    text[i] = re.sub(r\"(?<= )\\|\\|(?= )\", \"or\", text[i])\n",
    "\n",
    "print(\"\\n\".join(text))\n"
   ]
  },
  {
   "cell_type": "markdown",
   "id": "219a4f3c",
   "metadata": {},
   "source": [
    "## 5) Detect Floating Point Number"
   ]
  },
  {
   "cell_type": "code",
   "execution_count": null,
   "id": "f6dbd7e9",
   "metadata": {},
   "outputs": [],
   "source": [
    "import re\n",
    "\n",
    "# Check if string is a floating point number\n",
    "def is_float(string):\n",
    "    # Check if the given string satisfies all the conditions of a valid floating point number\n",
    "    return bool(re.match(r'^[-+]?[0-9]*\\.[0-9]+$', string))\n",
    "\n",
    "# Main function\n",
    "if __name__ == '__main__':\n",
    "    # Get the number of test cases\n",
    "    n = int(input())\n",
    "\n",
    "    # For each test case\n",
    "    for i in range(n):\n",
    "        # Get the string\n",
    "        s = input().strip()\n",
    "        # Check if the string is a floating point number\n",
    "        print(is_float(s))\n"
   ]
  },
  {
   "cell_type": "markdown",
   "id": "fda14b7e",
   "metadata": {},
   "source": [
    "## 6)Group(), Groups() & Groupdict()"
   ]
  },
  {
   "cell_type": "code",
   "execution_count": null,
   "id": "c0e052c3",
   "metadata": {},
   "outputs": [],
   "source": [
    "import re\n",
    "\n",
    "s = input().strip()\n",
    "match = re.search(r'([a-zA-Z0-9])\\1+', s)\n",
    "\n",
    "if match:\n",
    "    print(match.group(1))\n",
    "else:\n",
    "    print(\"-1\")"
   ]
  },
  {
   "cell_type": "markdown",
   "id": "271a4533",
   "metadata": {},
   "source": [
    "## 7) Validating Roman Numerals"
   ]
  },
  {
   "cell_type": "code",
   "execution_count": null,
   "id": "6f89ebc4",
   "metadata": {},
   "outputs": [],
   "source": [
    "regex_pattern = r\"^(M{0,3})(CM|CD|D?C{0,3})(XC|XL|L?X{0,3})(IX|IV|V?I{0,3})$\"\t# Do not delete 'r'.\n",
    "\n",
    "\n",
    "import re\n",
    "print(str(bool(re.match(regex_pattern, input()))))"
   ]
  },
  {
   "cell_type": "markdown",
   "id": "11dcd125",
   "metadata": {},
   "source": [
    "## 8) Validating Phone Numbers"
   ]
  },
  {
   "cell_type": "code",
   "execution_count": null,
   "id": "6899d85e",
   "metadata": {},
   "outputs": [],
   "source": [
    "import re\n",
    "\n",
    "n = int(input())\n",
    "\n",
    "for i in range(n):\n",
    "    number = input()\n",
    "    if re.match(r'[789]\\d{9}$', number):\n",
    "        print('YES')\n",
    "    else:\n",
    "        print('NO')"
   ]
  },
  {
   "cell_type": "markdown",
   "id": "aaa0fce0",
   "metadata": {},
   "source": [
    "## 9) Validating and Parsing Email Addresses"
   ]
  },
  {
   "cell_type": "code",
   "execution_count": null,
   "id": "2530c6ed",
   "metadata": {},
   "outputs": [],
   "source": [
    "import re\n",
    "import email.utils\n",
    "\n",
    "n = int(input())\n",
    "\n",
    "for i in range(n):\n",
    "    name, email_addr = input().split(' ')\n",
    "    if re.match(r'^[a-zA-Z][\\w\\.\\-]*@[a-zA-Z]+\\.[a-zA-Z]{1,3}$', email_addr):\n",
    "        print(email.utils.formataddr((name, email_addr)))"
   ]
  },
  {
   "cell_type": "markdown",
   "id": "0fd5ed49",
   "metadata": {},
   "source": [
    "## 10) Hex Color Code"
   ]
  },
  {
   "cell_type": "code",
   "execution_count": null,
   "id": "3cc9fd7f",
   "metadata": {},
   "outputs": [],
   "source": [
    "import re\n",
    "\n",
    "n = int(input())\n",
    "css_code = '\\n'.join([input() for _ in range(n)])\n",
    "\n",
    "pattern = r'#([a-fA-F0-9]{3}|[a-fA-F0-9]{6})'\n",
    "matches = re.findall(pattern, css_code)\n",
    "\n",
    "for match in matches:\n",
    "    print('#' + match)"
   ]
  },
  {
   "cell_type": "markdown",
   "id": "274a540f",
   "metadata": {},
   "source": [
    "## 10) HTML Parser - Part 1"
   ]
  },
  {
   "cell_type": "code",
   "execution_count": null,
   "id": "08c77d00",
   "metadata": {},
   "outputs": [],
   "source": [
    "from html.parser import HTMLParser\n",
    "\n",
    "class MyHTMLParser(HTMLParser):\n",
    "    def handle_starttag(self, tag, attrs):\n",
    "        print(\"Start :\", tag)\n",
    "        for attr in attrs:\n",
    "            print(\"->\", attr[0], \">\", attr[1])\n",
    "    \n",
    "    def handle_endtag(self, tag):\n",
    "        print(\"End   :\", tag)\n",
    "    \n",
    "    def handle_startendtag(self, tag, attrs):\n",
    "        print(\"Empty :\", tag)\n",
    "        for attr in attrs:\n",
    "            print(\"->\", attr[0], \">\", attr[1])\n",
    "\n",
    "# create a parser instance\n",
    "parser = MyHTMLParser()\n",
    "\n",
    "# get input and parse\n",
    "n = int(input().strip())\n",
    "html = \"\"\n",
    "for _ in range(n):\n",
    "    html += input().strip()\n",
    "\n",
    "parser.feed(html)"
   ]
  },
  {
   "cell_type": "markdown",
   "id": "41b5fd4d",
   "metadata": {},
   "source": [
    "## 11) HTML Parser Part 2"
   ]
  },
  {
   "cell_type": "code",
   "execution_count": null,
   "id": "382917b1",
   "metadata": {},
   "outputs": [],
   "source": [
    "from html.parser import HTMLParser\n",
    "class MyHTMLParser(HTMLParser):\n",
    "    def handle_comment(self, data):\n",
    "        if '\\n' in data:\n",
    "            print(\">>> Multi-line Comment\")\n",
    "            print(data)\n",
    "        else:\n",
    "            print(\">>> Single-line Comment\")\n",
    "            print(data)\n",
    "\n",
    "    def handle_data(self, data):\n",
    "        if data != '\\n':\n",
    "            print(\">>> Data\")\n",
    "            print(data)\n",
    "\n",
    "# Main function to get input and create instance of MyHTMLParser class\n",
    "if __name__ == '__main__':\n",
    "    n = int(input())\n",
    "    html_string = ''\n",
    "    for i in range(n):\n",
    "        html_string += input().rstrip()\n",
    "        html_string += '\\n'\n",
    "    parser = MyHTMLParser()\n",
    "    parser.feed(html_string)"
   ]
  },
  {
   "cell_type": "markdown",
   "id": "434cb8c7",
   "metadata": {},
   "source": [
    "## 12) Detect HTML Tags,Attributes and Attribute Values"
   ]
  },
  {
   "cell_type": "code",
   "execution_count": null,
   "id": "e6240e0f",
   "metadata": {},
   "outputs": [],
   "source": [
    "from html.parser import HTMLParser\n",
    "\n",
    "class MyHTMLParser(HTMLParser):\n",
    "    def handle_starttag(self, tag, attrs):\n",
    "        print(tag)\n",
    "        if attrs:\n",
    "            for attr in attrs:\n",
    "                print(\"-> {} > {}\".format(attr[0], attr[1]))\n",
    "\n",
    "n = int(input().strip())\n",
    "html = ''\n",
    "for i in range(n):\n",
    "    html += input().rstrip()\n",
    "    html += '\\n'\n",
    "\n",
    "parser = MyHTMLParser()\n",
    "parser.feed(html)"
   ]
  },
  {
   "cell_type": "markdown",
   "id": "c707075c",
   "metadata": {},
   "source": [
    "## 13) Validating UID"
   ]
  },
  {
   "cell_type": "code",
   "execution_count": null,
   "id": "f138f43d",
   "metadata": {},
   "outputs": [],
   "source": [
    "import re\n",
    "\n",
    "for _ in range(int(input())):\n",
    "    uid = input()\n",
    "    if len(uid) != 10 or not bool(re.match(r'(.*[A-Z]){2}', uid)) or \\\n",
    "            not bool(re.match(r'(.*\\d){3}', uid)) or bool(re.search(r'[^a-zA-Z0-9]', uid)) or \\\n",
    "            len(set(uid)) != len(uid):\n",
    "        print('Invalid')\n",
    "    else:\n",
    "        print('Valid')\n"
   ]
  },
  {
   "cell_type": "markdown",
   "id": "9b88c6d6",
   "metadata": {},
   "source": [
    "## 14) Validating Credit Cards"
   ]
  },
  {
   "cell_type": "code",
   "execution_count": null,
   "id": "cd9dc15d",
   "metadata": {},
   "outputs": [],
   "source": [
    "import re\n",
    "\n",
    "pattern = r'^(4|5|6)(\\d{3}|\\d{2}-)(\\d{4}|\\d{2}-\\d{2}|\\d{3}-\\d{1}|\\d{1}-\\d{3})\\d{4}$'\n",
    "\n",
    "for i in range(int(input())):\n",
    "    cc_number = input().strip()\n",
    "    if re.match(pattern, cc_number):\n",
    "        print(\"Valid\")\n",
    "    else:\n",
    "        print(\"Invalid\")"
   ]
  },
  {
   "cell_type": "markdown",
   "id": "ba102ba0",
   "metadata": {},
   "source": [
    "## 15) Validating Postal Codes"
   ]
  },
  {
   "cell_type": "code",
   "execution_count": null,
   "id": "cb88a6f8",
   "metadata": {},
   "outputs": [],
   "source": [
    "regex_integer_in_range = r\"^[1-9][\\d]{5}$\"\t# Do not delete 'r'.\n",
    "regex_alternating_repetitive_digit_pair = r\"(\\d)(?=\\d\\1)\"\t# Do not delete 'r'.\n",
    "\n",
    "\n",
    "import re\n",
    "P = input()\n",
    "\n",
    "print (bool(re.match(regex_integer_in_range, P)) \n",
    "and len(re.findall(regex_alternating_repetitive_digit_pair, P)) < 2)"
   ]
  },
  {
   "cell_type": "markdown",
   "id": "3a5653b5",
   "metadata": {},
   "source": [
    "## 16) Matrix Script"
   ]
  },
  {
   "cell_type": "code",
   "execution_count": null,
   "id": "8e406db7",
   "metadata": {},
   "outputs": [],
   "source": [
    "import math\n",
    "import os\n",
    "import random\n",
    "import re\n",
    "import sys\n",
    "import re\n",
    "\n",
    "n, m = map(int, input().split())\n",
    "matrix = []\n",
    "for _ in range(n):\n",
    "    matrix.append(input())\n",
    "\n",
    "decoded = \"\"\n",
    "for j in range(m):\n",
    "    for i in range(n):\n",
    "        if re.match(r\"[A-Za-z0-9]\", matrix[i][j]):\n",
    "            decoded += matrix[i][j]\n",
    "        elif decoded and decoded[-1] != \" \":\n",
    "            decoded += \" \"\n",
    "\n",
    "print(decoded)"
   ]
  },
  {
   "cell_type": "code",
   "execution_count": null,
   "id": "4ce26701",
   "metadata": {},
   "outputs": [],
   "source": []
  },
  {
   "cell_type": "code",
   "execution_count": null,
   "id": "d71bf049",
   "metadata": {},
   "outputs": [],
   "source": []
  }
 ],
 "metadata": {
  "kernelspec": {
   "display_name": "Python 3 (ipykernel)",
   "language": "python",
   "name": "python3"
  },
  "language_info": {
   "codemirror_mode": {
    "name": "ipython",
    "version": 3
   },
   "file_extension": ".py",
   "mimetype": "text/x-python",
   "name": "python",
   "nbconvert_exporter": "python",
   "pygments_lexer": "ipython3",
   "version": "3.9.12"
  }
 },
 "nbformat": 4,
 "nbformat_minor": 5
}
