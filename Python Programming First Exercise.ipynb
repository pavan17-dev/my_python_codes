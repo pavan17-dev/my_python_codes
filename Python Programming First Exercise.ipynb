{
 "cells": [
  {
   "cell_type": "markdown",
   "id": "8ff4e89b",
   "metadata": {},
   "source": [
    "## Say Hello World With Python"
   ]
  },
  {
   "cell_type": "code",
   "execution_count": 1,
   "id": "473f577f",
   "metadata": {},
   "outputs": [
    {
     "name": "stdout",
     "output_type": "stream",
     "text": [
      "Hello, World!\n"
     ]
    }
   ],
   "source": [
    "print(\"Hello, World!\")"
   ]
  },
  {
   "cell_type": "markdown",
   "id": "6e457d0f",
   "metadata": {},
   "source": [
    "## Python if- else"
   ]
  },
  {
   "cell_type": "code",
   "execution_count": 9,
   "id": "ecc19aee",
   "metadata": {},
   "outputs": [
    {
     "name": "stdout",
     "output_type": "stream",
     "text": [
      "99\n",
      "Weird\n"
     ]
    }
   ],
   "source": [
    "if __name__ == '__main__':\n",
    "    n = int(input().strip())\n",
    "if n % 2 != 0:\n",
    "    print(\"Weird\")\n",
    "elif (n >=2 and n <= 5):\n",
    "    print(\"Not Weird\")\n",
    "elif (n >= 6 and n <= 20):\n",
    "    print(\"Weird\")\n",
    "else:\n",
    "    print(\"Not Weird\")"
   ]
  },
  {
   "cell_type": "markdown",
   "id": "9670d7f1",
   "metadata": {},
   "source": [
    "## what is strip in python ?"
   ]
  },
  {
   "cell_type": "raw",
   "id": "2aa417dd",
   "metadata": {},
   "source": [
    "In Python, strip() is a built-in string method that is used to remove any leading and trailing whitespace characters (spaces, tabs, newlines) from a string.\n",
    "\n",
    "The strip() method returns a new string with the whitespace characters removed. The original string is not modified."
   ]
  },
  {
   "cell_type": "code",
   "execution_count": 5,
   "id": "88acb67f",
   "metadata": {},
   "outputs": [
    {
     "name": "stdout",
     "output_type": "stream",
     "text": [
      "hello world\n"
     ]
    }
   ],
   "source": [
    "text = \"  hello world  \"\n",
    "stripped_text = text.strip()\n",
    "print(stripped_text)  # Output: \"hello world\""
   ]
  },
  {
   "cell_type": "code",
   "execution_count": 6,
   "id": "c933ef43",
   "metadata": {},
   "outputs": [
    {
     "name": "stdout",
     "output_type": "stream",
     "text": [
      "8\n"
     ]
    }
   ],
   "source": [
    "number = \" 8\"\n",
    "stripped_num = number.strip()\n",
    "print(stripped_num) # output: \"8\""
   ]
  },
  {
   "cell_type": "markdown",
   "id": "8d65d27b",
   "metadata": {},
   "source": [
    "## What is if __name__ == \"__main__\" ?"
   ]
  },
  {
   "cell_type": "raw",
   "id": "69363b90",
   "metadata": {},
   "source": [
    "if __name__ == \"__main__\" is a common conditional statement that is used in Python scripts to distinguish between the code that is executed when the script is run directly and the code that is executed when the script is imported as a module into another script."
   ]
  },
  {
   "cell_type": "raw",
   "id": "ead71ced",
   "metadata": {},
   "source": [
    "When a Python script is run directly, the special variable __name__ is set to \"__main__\". This allows the script to execute certain code only if it is run directly, but not if it is imported as a module."
   ]
  },
  {
   "cell_type": "raw",
   "id": "f1b2f1bf",
   "metadata": {},
   "source": [
    "This allows the code in the script to be reusable as a module in other scripts, while still allowing it to be executed as a standalone script when needed."
   ]
  },
  {
   "cell_type": "markdown",
   "id": "82d368b1",
   "metadata": {},
   "source": [
    "## Arithmetic Operations"
   ]
  },
  {
   "cell_type": "code",
   "execution_count": 10,
   "id": "3f305973",
   "metadata": {},
   "outputs": [
    {
     "name": "stdout",
     "output_type": "stream",
     "text": [
      "7\n",
      "8\n",
      "15\n",
      "-1\n",
      "56\n"
     ]
    }
   ],
   "source": [
    "if __name__ == '__main__':\n",
    "    a = int(input())\n",
    "    b = int(input())\n",
    "\n",
    "add = a+b\n",
    "sub = a-b\n",
    "prod = a*b\n",
    "\n",
    "print(add)\n",
    "print(sub)\n",
    "print(prod)"
   ]
  },
  {
   "cell_type": "markdown",
   "id": "1385edb0",
   "metadata": {},
   "source": [
    "## Division"
   ]
  },
  {
   "cell_type": "raw",
   "id": "bc2c7fc7",
   "metadata": {},
   "source": [
    "Floor division in Python is a mathematical operation that returns the integer quotient of dividing two numbers, rounded down to the nearest integer. It is denoted using the double forward slash operator //."
   ]
  },
  {
   "cell_type": "raw",
   "id": "57e990fc",
   "metadata": {},
   "source": [
    "Floor division is useful when you want to divide two numbers and get an integer result, without any decimal places. If you want to get the remainder of the division, you can use the modulus operator %."
   ]
  },
  {
   "cell_type": "code",
   "execution_count": 20,
   "id": "15da1d64",
   "metadata": {},
   "outputs": [
    {
     "name": "stdout",
     "output_type": "stream",
     "text": [
      "3\n",
      "9\n",
      "0\n",
      "0.3333333333333333\n"
     ]
    }
   ],
   "source": [
    "if __name__ == '__main__':\n",
    "    a = int(input())\n",
    "    b = int(input())\n",
    "    \n",
    "floor_division = a // b\n",
    "division = a / b\n",
    "\n",
    "print(floor_division)\n",
    "print(division)"
   ]
  },
  {
   "cell_type": "markdown",
   "id": "68d287c4",
   "metadata": {},
   "source": [
    "## For Loop"
   ]
  },
  {
   "cell_type": "raw",
   "id": "f84a691d",
   "metadata": {},
   "source": [
    "A for loop in Python is a control flow statement that allows you to iterate over a sequence of values, such as a list, tuple, or string. Here's the basic syntax of a for loop:"
   ]
  },
  {
   "cell_type": "raw",
   "id": "b622bdfe",
   "metadata": {},
   "source": [
    "for item in sequence:\n",
    "    # do something with item"
   ]
  },
  {
   "cell_type": "raw",
   "id": "4f94a235",
   "metadata": {},
   "source": [
    "In this syntax, item is a variable that represents each value in the sequence, and sequence is the sequence of values that you want to iterate over. The body of the loop is indented and contains the code that you want to execute for each item in the sequence.\n",
    "\n",
    "Here's an example that shows how to use a for loop to iterate over a list of numbers and print each one:"
   ]
  },
  {
   "cell_type": "code",
   "execution_count": 21,
   "id": "53fbbb58",
   "metadata": {},
   "outputs": [
    {
     "name": "stdout",
     "output_type": "stream",
     "text": [
      "1\n",
      "2\n",
      "3\n",
      "4\n",
      "5\n"
     ]
    }
   ],
   "source": [
    "numbers = [1, 2, 3, 4, 5]\n",
    "for num in numbers:\n",
    "    print(num)"
   ]
  },
  {
   "cell_type": "raw",
   "id": "e8b866bb",
   "metadata": {},
   "source": [
    "In this example, the numbers list contains five integers. The for loop iterates over each number in the list, and the print() function is called to print each number to the console."
   ]
  },
  {
   "cell_type": "raw",
   "id": "5923f66d",
   "metadata": {},
   "source": [
    "You can also use the range() function to generate a sequence of numbers to iterate over. Here's an example that shows how to use range() with a for loop to print the numbers from 1 to 5:"
   ]
  },
  {
   "cell_type": "code",
   "execution_count": 22,
   "id": "7898d2a0",
   "metadata": {},
   "outputs": [
    {
     "name": "stdout",
     "output_type": "stream",
     "text": [
      "1\n",
      "2\n",
      "3\n",
      "4\n",
      "5\n"
     ]
    }
   ],
   "source": [
    "for num in range(1, 6):\n",
    "    print(num)"
   ]
  },
  {
   "cell_type": "raw",
   "id": "7f3861c9",
   "metadata": {},
   "source": [
    "In this example, the range(1, 6) function generates a sequence of numbers from 1 to 5, and the for loop iterates over each number in the sequence and prints it to the console."
   ]
  },
  {
   "cell_type": "code",
   "execution_count": 23,
   "id": "1928e194",
   "metadata": {},
   "outputs": [
    {
     "name": "stdout",
     "output_type": "stream",
     "text": [
      "6\n",
      "0\n",
      "1\n",
      "4\n",
      "9\n",
      "16\n",
      "25\n"
     ]
    }
   ],
   "source": [
    "if __name__ == '__main__':\n",
    "    n = int(input())\n",
    "    if n > 0:\n",
    "        for i in range(n):\n",
    "            print(i**2)"
   ]
  },
  {
   "cell_type": "markdown",
   "id": "d1b40ed6",
   "metadata": {},
   "source": [
    "## Leap Year Function"
   ]
  },
  {
   "cell_type": "raw",
   "id": "1d2b5229",
   "metadata": {},
   "source": [
    "def is_leap(year):\n",
    "    \"\"\" leap year function will calculate a year is leap year or not\n",
    "    \n",
    "    args\n",
    "    year = enter the year\n",
    "\n",
    "    return\n",
    "    if year is a leap year return True otherwise False\n",
    "\n",
    "    \"\"\"\n",
    "    leap = True\n",
    "    if year % 4 == 0:\n",
    "        if year % 100 == 0:\n",
    "            if year % 400 == 0:\n",
    "                leap = True\n",
    "            else:\n",
    "                leap = False\n",
    "        else:\n",
    "            leap = True        \n",
    "    else:\n",
    "        leap = False\n",
    "    return leap\n",
    "\n",
    "year = int(input())\n",
    "print(is_leap(year))"
   ]
  },
  {
   "cell_type": "markdown",
   "id": "32572899",
   "metadata": {},
   "source": [
    "## Print Function"
   ]
  },
  {
   "cell_type": "code",
   "execution_count": 32,
   "id": "23f0e1dc",
   "metadata": {},
   "outputs": [
    {
     "name": "stdout",
     "output_type": "stream",
     "text": [
      "7\n",
      "1234567"
     ]
    }
   ],
   "source": [
    "if __name__ == '__main__':\n",
    "    n = int(input())\n",
    "for i in range(n):\n",
    "    print(i+1,end = \"\")"
   ]
  },
  {
   "cell_type": "raw",
   "id": "891faa9a",
   "metadata": {},
   "source": [
    "There are n kids with candies. You are given an integer array candies, where each candies[i] represents the number of candies the ith kid has, and an integer extraCandies, denoting the number of extra candies that you have."
   ]
  },
  {
   "cell_type": "raw",
   "id": "9871c6b1",
   "metadata": {},
   "source": [
    "Return a boolean array result of length n, where result[i] is true if, after giving the ith kid all the extraCandies, they will have the greatest number of candies among all the kids, or false otherwise."
   ]
  },
  {
   "cell_type": "raw",
   "id": "c3b48cde",
   "metadata": {},
   "source": [
    "Note that multiple kids can have the greatest number of candies."
   ]
  },
  {
   "cell_type": "raw",
   "id": "87056e66",
   "metadata": {},
   "source": [
    "how to input a list of values to a variable using input() function ?"
   ]
  },
  {
   "cell_type": "raw",
   "id": "69137c87",
   "metadata": {},
   "source": [
    "You can use the input() function to prompt the user to enter a list of values separated by a delimiter, such as a space, comma, or semicolon. Here's an example that shows how to input a list of integers separated by spaces:"
   ]
  },
  {
   "cell_type": "code",
   "execution_count": 34,
   "id": "1b64b15c",
   "metadata": {},
   "outputs": [
    {
     "name": "stdout",
     "output_type": "stream",
     "text": [
      "Enter a list of integers separated by spaces: 3 4 5\n",
      "[3, 4, 5]\n"
     ]
    }
   ],
   "source": [
    "# Prompt the user to enter a list of integers\n",
    "input_string = input(\"Enter a list of integers separated by spaces: \")\n",
    "\n",
    "# Convert the input string to a list of integers\n",
    "input_list = list(map(int, input_string.split()))\n",
    "\n",
    "# Print the input list\n",
    "print(input_list)"
   ]
  },
  {
   "cell_type": "raw",
   "id": "b35d34fd",
   "metadata": {},
   "source": [
    "In this example, the input() function is used to prompt the user to enter a list of integers separated by spaces. The input() function returns a string, which is then split into a list of strings using the split() method. The map() function is used to apply the int() function to each string in the list, converting them to integers. The resulting list of integers is then printed to the console.\n",
    "\n",
    "You can modify the delimiter used to separate the values by passing a different separator character to the split() method. For example, if you want to input a list of values separated by commas, you can use the following code:"
   ]
  },
  {
   "cell_type": "code",
   "execution_count": 35,
   "id": "1b747b9f",
   "metadata": {},
   "outputs": [
    {
     "name": "stdout",
     "output_type": "stream",
     "text": [
      "Enter a list of values separated by commas: 6,8,9\n",
      "['6', '8', '9']\n"
     ]
    }
   ],
   "source": [
    "# Prompt the user to enter a list of values separated by commas\n",
    "input_string = input(\"Enter a list of values separated by commas: \")\n",
    "\n",
    "# Convert the input string to a list of values\n",
    "input_list = input_string.split(\",\")\n",
    "\n",
    "# Print the input list\n",
    "print(input_list)"
   ]
  },
  {
   "cell_type": "raw",
   "id": "0af96658",
   "metadata": {},
   "source": [
    "In this example, the split() method is called with a comma separator, splitting the input string into a list of values. The resulting list of values is then printed to the console. Note that the values in the list are still strings, so you may need to convert them to the appropriate data type depending on your use case."
   ]
  },
  {
   "cell_type": "markdown",
   "id": "947f0cec",
   "metadata": {},
   "source": [
    "## Kids With Greatest Number of Candies"
   ]
  },
  {
   "cell_type": "code",
   "execution_count": 42,
   "id": "f8aa1525",
   "metadata": {
    "scrolled": true
   },
   "outputs": [],
   "source": [
    "def kidsWithCandies(candies= candies, extraCandies = extra_candies):\n",
    "        max_can=max(candies)\n",
    "        result=[]\n",
    "        for i in candies:\n",
    "            if i+extra_candies>=max_can:\n",
    "                result.append(True)\n",
    "            else:\n",
    "                result.append(False)\n",
    "        return result"
   ]
  },
  {
   "cell_type": "code",
   "execution_count": 41,
   "id": "c1906c49",
   "metadata": {},
   "outputs": [
    {
     "name": "stdout",
     "output_type": "stream",
     "text": [
      "Enter the candles in a list form1 2 3 4\n",
      "1\n",
      "[False, False, True, True]\n"
     ]
    }
   ],
   "source": [
    "candies = list(map(int,input(\"Enter the candles in a list form\").split()))\n",
    "extra_candies = int(input())\n",
    "result = kidsWithCandies(candies,extra_candies)\n",
    "print(result)"
   ]
  },
  {
   "cell_type": "markdown",
   "id": "86322157",
   "metadata": {},
   "source": [
    "## Running Sum of 1d Array"
   ]
  },
  {
   "cell_type": "code",
   "execution_count": 44,
   "id": "49e8adad",
   "metadata": {},
   "outputs": [],
   "source": [
    "def runningSum(nums):\n",
    "    sum = 0\n",
    "    sum_list = []\n",
    "    for i in nums:\n",
    "        sum += i\n",
    "        sum_list.append(sum)\n",
    "    return sum_list"
   ]
  },
  {
   "cell_type": "markdown",
   "id": "9f74824d",
   "metadata": {},
   "source": [
    "nums = map(int,input(\"Enter a list of values:\").split())\n",
    "result = runningSum(nums)\n",
    "print(result)"
   ]
  },
  {
   "cell_type": "markdown",
   "id": "c809191f",
   "metadata": {},
   "source": [
    "## Shuffle the Array"
   ]
  },
  {
   "cell_type": "code",
   "execution_count": 54,
   "id": "7f5a1b21",
   "metadata": {},
   "outputs": [],
   "source": [
    "def shuffle(nums,n):\n",
    "    target = []\n",
    "    for i in range(0 , n ) :\n",
    "        target.append(nums[i])\n",
    "        target.append(nums[n + i ] )\n",
    "    return target"
   ]
  },
  {
   "cell_type": "code",
   "execution_count": 57,
   "id": "731fc7b1",
   "metadata": {},
   "outputs": [
    {
     "name": "stdout",
     "output_type": "stream",
     "text": [
      "Enter a list of values:1 2 3 4 5 6\n",
      "3 \n",
      "[1, 4, 2, 5, 3, 6]\n"
     ]
    }
   ],
   "source": [
    "nums = list(map(int,input(\"Enter a list of values:\").split()))\n",
    "n = int(input())\n",
    "result = shuffle(nums,n)\n",
    "print(result)"
   ]
  },
  {
   "cell_type": "code",
   "execution_count": null,
   "id": "328ec55d",
   "metadata": {},
   "outputs": [],
   "source": []
  }
 ],
 "metadata": {
  "kernelspec": {
   "display_name": "Python 3 (ipykernel)",
   "language": "python",
   "name": "python3"
  },
  "language_info": {
   "codemirror_mode": {
    "name": "ipython",
    "version": 3
   },
   "file_extension": ".py",
   "mimetype": "text/x-python",
   "name": "python",
   "nbconvert_exporter": "python",
   "pygments_lexer": "ipython3",
   "version": "3.9.12"
  }
 },
 "nbformat": 4,
 "nbformat_minor": 5
}
